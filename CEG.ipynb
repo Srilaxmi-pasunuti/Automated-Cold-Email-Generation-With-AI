{
 "cells": [
  {
   "cell_type": "code",
   "execution_count": 220,
   "metadata": {},
   "outputs": [],
   "source": [
    "from langchain_groq import ChatGroq"
   ]
  },
  {
   "cell_type": "code",
   "execution_count": 221,
   "metadata": {},
   "outputs": [
    {
     "name": "stdout",
     "output_type": "stream",
     "text": [
      "That's an easy one!\n",
      "\n",
      "The first person to set foot on the moon was Neil Armstrong. He stepped out of the lunar module Eagle and onto the moon's surface on July 20, 1969, during the Apollo 11 mission. Armstrong famously declared, \"That's one small step for man, one giant leap for mankind,\" as he became the first human to walk on the moon.\n"
     ]
    }
   ],
   "source": [
    "llm = ChatGroq(\n",
    "    temperature=0, \n",
    "    groq_api_key=' use your api key here ', \n",
    "    model_name=\"llama3-70b-8192\"\n",
    ")\n",
    "response = llm.invoke(\"The first person to land on moon was ...\")\n",
    "print(response.content)"
   ]
  },
  {
   "cell_type": "code",
   "execution_count": 222,
   "metadata": {},
   "outputs": [
    {
     "name": "stdout",
     "output_type": "stream",
     "text": [
      "           Software Engineer Job Details | Capgemini                         We use cookies to offer you the best possible website experience. Your\n",
      "cookie preferences will be stored in your browser’s local storage. This includes cookies necessary for the website's operation. Additionally, you can\n",
      "freely decide and change any time whether you accept cookies or choose to opt out of cookies to improve the website's performance, as well as cookies\n",
      "used to display content tailored to your interests. Your experience of the site and the services we are able to offer may be impacted if you do not\n",
      "accept all cookies.                  Modify Cookie Preferences                       Reject Optional Cookies                  Accept All Cookies\n",
      "Press Tab to Move to Skip to Content Link Skip to main content             View Profile     Employee Login                             View Profile\n",
      "Employee Login                             View Profile     Employee Login                                 Search by Keyword     Search by Location\n",
      "Show More Options      Loading...                                                    Country                                            All\n",
      "Location                                            All                                                  Grade\n",
      "All                                                  Professional Community                                            All\n",
      "                                    Clear                 Select how often (in days) to receive an alert:     Create Alert        ×    Select how\n",
      "often (in days) to receive an alert:              Apply now »   Apply now                                                             Apply Now\n",
      "Start applying with LinkedIn                                           Start          Please wait...               Software Engineer\n",
      "Job Description Works in the area of Software Engineering, which encompasses the development, maintenance and optimization of software\n",
      "solutions/applications. 1. Applies scientific methods to analyse and solve software engineering problems. 2. He/she is responsible for the development\n",
      "and application of software engineering practice and knowledge, in research, design, development and maintenance. 3. His/her work requires the\n",
      "exercise of original thought and judgement and the ability to supervise the technical and administrative work of other software engineers. 4. The\n",
      "software engineer builds skills and expertise of his/her software engineering discipline to reach standard software engineer skills expectations for\n",
      "the applicable role, as defined in Professional Communities. 5. The software engineer collaborates and acts as team player with other software\n",
      "engineers and stakeholders. Works in the area of Software Engineering, which encompasses the development, maintenance and optimization of software\n",
      "solutions/applications. 1. Applies scientific methods to analyse and solve software engineering problems. 2. He/she is responsible for the development\n",
      "and application of software engineering practice and knowledge, in research, design, development and maintenance. 3. His/her work requires the\n",
      "exercise of original thought and judgement and the ability to supervise the technical and administrative work of other software engineers. 4. The\n",
      "software engineer builds skills and expertise of his/her software engineering discipline to reach standard software engineer skills expectations for\n",
      "the applicable role, as defined in Professional Communities. 5. The software engineer collaborates and acts as team player with other software\n",
      "engineers and stakeholders.Job Description - Grade Specific Has more than a year of relevant work experience. Solid understanding of programming\n",
      "concepts, software design and software development principles. Consistently works to direction with minimal supervision, producing accurate and\n",
      "reliable results. Individuals are expected to be able to work on a range of tasks and problems, demonstrating their ability to apply their skills and\n",
      "knowledge. Organises own time to deliver against tasks set by others with a mid term horizon. Works co-operatively with others to achieve team goals\n",
      "and has a direct and positive impact on project performance and make decisions based on their understanding of the situation, not just the\n",
      "rules.Skills (competencies) Verbal Communication                     Ref. code:           102311              Posted on:           15 Mar 2025\n",
      "Experience Level:           Experienced Professionals              Contract Type:           Permanent              Location:             Bangalore, IN\n",
      "Brand:           Capgemini              Professional Community:           Software Engineering                         Apply now »   Apply now\n",
      "Apply Now                                                                 Start applying with LinkedIn                                           Start\n",
      "Please wait...            Find similar jobs:                         Privacy Policy Terms of Use Social Media Guidelines Legal Information / Mentions\n",
      "Légales                                Our Brands:  Capgemini Capgemini Invent Capgemini Engineering frog Sogeti           All rights reserved by\n",
      "Capgemini. Copyright © 2025           × Cookie Consent Manager    When you visit any website, it may store or retrieve information on your browser,\n",
      "mostly in the form of cookies. Because we respect your right to privacy, you can choose not to allow some types of cookies. However, blocking some\n",
      "types of cookies may impact your experience of the site and the services we are able to offer.       Required Cookies  These cookies are required to\n",
      "use this website and can't be turned off.                                                                  Show More Details\n",
      "Required Cookies   Provider Description Enabled     SAP as service provider  We use the following session cookies, which are all required to enable\n",
      "the website to function:\"route\" is used for session stickiness\"careerSiteCompanyId\" is used to send the request to the correct data centre\"JSESSIONID\"\n",
      "is placed on the visitor's device during the session so the server can identify the visitor\"Load balancer cookie\" (actual cookie name may vary)\n",
      "prevents a visitor from bouncing from one instance to another                           Advertising Cookies  These cookies serve ads that are relevant\n",
      "to your interests. You may freely choose to accept or decline these cookies at any time. Note that certain functionality that these third parties make\n",
      "available may be impacted if you do not accept these cookies.                                                                      Show More Details\n",
      "Advertising Cookies   Provider Description Enabled     LinkedIn  LinkedIn is an employment-oriented social networking service. We use the Apply with\n",
      "LinkedIn feature to allow you to apply for jobs using your LinkedIn profile. Opting out of LinkedIn cookies will disable your ability to use Apply\n",
      "with LinkedIn.Cookie PolicyCookie TablePrivacy PolicyTerms and Conditions                         Confirm My Choices                           Reject\n",
      "Optional Cookies Accept All Cookies\n"
     ]
    }
   ],
   "source": [
    "from langchain_community.document_loaders import WebBaseLoader\n",
    "import textwrap\n",
    "\n",
    "# Load the page content first\n",
    "loader = WebBaseLoader(\"https://careers.capgemini.com/job/Pune-Software-Engineer/1182147201/\")\n",
    "page_data = loader.load().pop().page_content  # Ensure page_data is assigned before using it\n",
    "\n",
    "# Now use page_data for text wrapping\n",
    "wrapped_lines = textwrap.wrap(page_data, width=150)\n",
    "for line in wrapped_lines:\n",
    "    print(line)\n",
    "\n",
    "\n"
   ]
  },
  {
   "cell_type": "code",
   "execution_count": 223,
   "metadata": {},
   "outputs": [
    {
     "data": {
      "text/plain": [
       "str"
      ]
     },
     "execution_count": 223,
     "metadata": {},
     "output_type": "execute_result"
    }
   ],
   "source": [
    "from langchain_core.prompts import PromptTemplate\n",
    "\n",
    "prompt_extract = PromptTemplate.from_template(\n",
    "        \"\"\"\n",
    "        ### SCRAPED TEXT FROM WEBSITE:\n",
    "        {page_data}\n",
    "        ### INSTRUCTION:\n",
    "        The scraped text is from the career's page of a website.\n",
    "        Your job is to extract the job postings and return them in JSON format containing the \n",
    "        following keys: `role`, `experience`, `skills` and `description`.\n",
    "        Only return the valid JSON.\n",
    "        ### VALID JSON (NO PREAMBLE):    \n",
    "        \"\"\"\n",
    ")\n",
    "\n",
    "chain_extract = prompt_extract | llm \n",
    "res = chain_extract.invoke(input={'page_data':page_data})\n",
    "type(res.content)"
   ]
  },
  {
   "cell_type": "code",
   "execution_count": 224,
   "metadata": {},
   "outputs": [
    {
     "name": "stdout",
     "output_type": "stream",
     "text": [
      "Role: Software Engineer\n",
      "Experience: Experienced Professionals\n",
      "Skills: Verbal Communication\n",
      "Description:\n",
      "Works in the area of Software Engineering, which encompasses the development,\n",
      "maintenance and optimization of software solutions/applications. Applies\n",
      "scientific methods to analyse and solve software engineering problems. He/she is\n",
      "responsible for the development and application of software engineering practice\n",
      "and knowledge, in research, design, development and maintenance. His/her work\n",
      "requires the exercise of original thought and judgement and the ability to\n",
      "supervise the technical and administrative work of other software engineers. The\n",
      "software engineer builds skills and expertise of his/her software engineering\n",
      "discipline to reach standard software engineer skills expectations for the\n",
      "applicable role, as defined in Professional Communities. The software engineer\n",
      "collaborates and acts as team player with other software engineers and\n",
      "stakeholders.\n"
     ]
    }
   ],
   "source": [
    "\n",
    "\n",
    "import json\n",
    "import textwrap\n",
    "from langchain_core.output_parsers import JsonOutputParser\n",
    "\n",
    "# Initialize parser\n",
    "json_parser = JsonOutputParser()\n",
    "json_res = json_parser.parse(res.content)\n",
    "\n",
    "# Ensure json_res is a dictionary, not a list\n",
    "if isinstance(json_res, list) and len(json_res) == 1:\n",
    "    json_res = json_res[0]  # Convert list to dictionary\n",
    "\n",
    "# Print formatted output\n",
    "print(f\"Role: {json_res['role']}\")\n",
    "print(f\"Experience: {json_res['experience']}\")\n",
    "print(f\"Skills: {', '.join(json_res['skills'])}\")\n",
    "\n",
    "# Wrap and print description properly\n",
    "print(\"Description:\")\n",
    "wrapped_description = textwrap.wrap(json_res['description'], width=80)  # Adjust width\n",
    "for line in wrapped_description:\n",
    "    print(line)  # Prints each line separately for proper formatting\n",
    "\n",
    "\n",
    "\n"
   ]
  },
  {
   "cell_type": "code",
   "execution_count": 225,
   "metadata": {},
   "outputs": [
    {
     "data": {
      "text/plain": [
       "dict"
      ]
     },
     "execution_count": 225,
     "metadata": {},
     "output_type": "execute_result"
    }
   ],
   "source": [
    "type(json_res)\n",
    "\n"
   ]
  },
  {
   "cell_type": "code",
   "execution_count": 226,
   "metadata": {},
   "outputs": [
    {
     "data": {
      "text/html": [
       "<div>\n",
       "<style scoped>\n",
       "    .dataframe tbody tr th:only-of-type {\n",
       "        vertical-align: middle;\n",
       "    }\n",
       "\n",
       "    .dataframe tbody tr th {\n",
       "        vertical-align: top;\n",
       "    }\n",
       "\n",
       "    .dataframe thead th {\n",
       "        text-align: right;\n",
       "    }\n",
       "</style>\n",
       "<table border=\"1\" class=\"dataframe\">\n",
       "  <thead>\n",
       "    <tr style=\"text-align: right;\">\n",
       "      <th></th>\n",
       "      <th>Techstack</th>\n",
       "      <th>Links</th>\n",
       "    </tr>\n",
       "  </thead>\n",
       "  <tbody>\n",
       "    <tr>\n",
       "      <th>0</th>\n",
       "      <td>React, Node.js, MongoDB</td>\n",
       "      <td>https://example.com/react-portfolio</td>\n",
       "    </tr>\n",
       "    <tr>\n",
       "      <th>1</th>\n",
       "      <td>Angular,.NET, SQL Server</td>\n",
       "      <td>https://example.com/angular-portfolio</td>\n",
       "    </tr>\n",
       "    <tr>\n",
       "      <th>2</th>\n",
       "      <td>Vue.js, Ruby on Rails, PostgreSQL</td>\n",
       "      <td>https://example.com/vue-portfolio</td>\n",
       "    </tr>\n",
       "    <tr>\n",
       "      <th>3</th>\n",
       "      <td>Python, Django, MySQL</td>\n",
       "      <td>https://example.com/python-portfolio</td>\n",
       "    </tr>\n",
       "    <tr>\n",
       "      <th>4</th>\n",
       "      <td>Java, Spring Boot, Oracle</td>\n",
       "      <td>https://example.com/java-portfolio</td>\n",
       "    </tr>\n",
       "    <tr>\n",
       "      <th>5</th>\n",
       "      <td>Flutter, Firebase, GraphQL</td>\n",
       "      <td>https://example.com/flutter-portfolio</td>\n",
       "    </tr>\n",
       "    <tr>\n",
       "      <th>6</th>\n",
       "      <td>WordPress, PHP, MySQL</td>\n",
       "      <td>https://example.com/wordpress-portfolio</td>\n",
       "    </tr>\n",
       "    <tr>\n",
       "      <th>7</th>\n",
       "      <td>Magento, PHP, MySQL</td>\n",
       "      <td>https://example.com/magento-portfolio</td>\n",
       "    </tr>\n",
       "    <tr>\n",
       "      <th>8</th>\n",
       "      <td>React Native, Node.js, MongoDB</td>\n",
       "      <td>https://example.com/react-native-portfolio</td>\n",
       "    </tr>\n",
       "    <tr>\n",
       "      <th>9</th>\n",
       "      <td>iOS, Swift, Core Data</td>\n",
       "      <td>https://example.com/ios-portfolio</td>\n",
       "    </tr>\n",
       "    <tr>\n",
       "      <th>10</th>\n",
       "      <td>Android, Java, Room Persistence</td>\n",
       "      <td>https://example.com/android-portfolio</td>\n",
       "    </tr>\n",
       "    <tr>\n",
       "      <th>11</th>\n",
       "      <td>Kotlin, Android, Firebase</td>\n",
       "      <td>https://example.com/kotlin-android-portfolio</td>\n",
       "    </tr>\n",
       "    <tr>\n",
       "      <th>12</th>\n",
       "      <td>Android TV, Kotlin, Android NDK</td>\n",
       "      <td>https://example.com/android-tv-portfolio</td>\n",
       "    </tr>\n",
       "    <tr>\n",
       "      <th>13</th>\n",
       "      <td>iOS, Swift, ARKit</td>\n",
       "      <td>https://example.com/ios-ar-portfolio</td>\n",
       "    </tr>\n",
       "    <tr>\n",
       "      <th>14</th>\n",
       "      <td>Cross-platform, Xamarin, Azure</td>\n",
       "      <td>https://example.com/xamarin-portfolio</td>\n",
       "    </tr>\n",
       "    <tr>\n",
       "      <th>15</th>\n",
       "      <td>Backend, Kotlin, Spring Boot</td>\n",
       "      <td>https://example.com/kotlin-backend-portfolio</td>\n",
       "    </tr>\n",
       "    <tr>\n",
       "      <th>16</th>\n",
       "      <td>Frontend, TypeScript, Angular</td>\n",
       "      <td>https://example.com/typescript-frontend-portfolio</td>\n",
       "    </tr>\n",
       "    <tr>\n",
       "      <th>17</th>\n",
       "      <td>Full-stack, JavaScript, Express.js</td>\n",
       "      <td>https://example.com/full-stack-js-portfolio</td>\n",
       "    </tr>\n",
       "    <tr>\n",
       "      <th>18</th>\n",
       "      <td>Machine Learning, Python, TensorFlow</td>\n",
       "      <td>https://example.com/ml-python-portfolio</td>\n",
       "    </tr>\n",
       "    <tr>\n",
       "      <th>19</th>\n",
       "      <td>DevOps, Jenkins, Docker</td>\n",
       "      <td>https://example.com/devops-portfolio</td>\n",
       "    </tr>\n",
       "  </tbody>\n",
       "</table>\n",
       "</div>"
      ],
      "text/plain": [
       "                               Techstack  \\\n",
       "0                React, Node.js, MongoDB   \n",
       "1               Angular,.NET, SQL Server   \n",
       "2      Vue.js, Ruby on Rails, PostgreSQL   \n",
       "3                  Python, Django, MySQL   \n",
       "4              Java, Spring Boot, Oracle   \n",
       "5             Flutter, Firebase, GraphQL   \n",
       "6                  WordPress, PHP, MySQL   \n",
       "7                    Magento, PHP, MySQL   \n",
       "8         React Native, Node.js, MongoDB   \n",
       "9                  iOS, Swift, Core Data   \n",
       "10       Android, Java, Room Persistence   \n",
       "11             Kotlin, Android, Firebase   \n",
       "12       Android TV, Kotlin, Android NDK   \n",
       "13                     iOS, Swift, ARKit   \n",
       "14        Cross-platform, Xamarin, Azure   \n",
       "15          Backend, Kotlin, Spring Boot   \n",
       "16         Frontend, TypeScript, Angular   \n",
       "17    Full-stack, JavaScript, Express.js   \n",
       "18  Machine Learning, Python, TensorFlow   \n",
       "19               DevOps, Jenkins, Docker   \n",
       "\n",
       "                                                Links  \n",
       "0                 https://example.com/react-portfolio  \n",
       "1               https://example.com/angular-portfolio  \n",
       "2                   https://example.com/vue-portfolio  \n",
       "3                https://example.com/python-portfolio  \n",
       "4                  https://example.com/java-portfolio  \n",
       "5               https://example.com/flutter-portfolio  \n",
       "6             https://example.com/wordpress-portfolio  \n",
       "7               https://example.com/magento-portfolio  \n",
       "8          https://example.com/react-native-portfolio  \n",
       "9                   https://example.com/ios-portfolio  \n",
       "10              https://example.com/android-portfolio  \n",
       "11       https://example.com/kotlin-android-portfolio  \n",
       "12           https://example.com/android-tv-portfolio  \n",
       "13               https://example.com/ios-ar-portfolio  \n",
       "14              https://example.com/xamarin-portfolio  \n",
       "15       https://example.com/kotlin-backend-portfolio  \n",
       "16  https://example.com/typescript-frontend-portfolio  \n",
       "17        https://example.com/full-stack-js-portfolio  \n",
       "18            https://example.com/ml-python-portfolio  \n",
       "19               https://example.com/devops-portfolio  "
      ]
     },
     "execution_count": 226,
     "metadata": {},
     "output_type": "execute_result"
    }
   ],
   "source": [
    "import pandas as pd\n",
    "\n",
    "df = pd.read_csv(\"C:/Users/pasun/OneDrive/Desktop/New folder/my_portfolio.csv\")\n",
    "df"
   ]
  },
  {
   "cell_type": "code",
   "execution_count": 227,
   "metadata": {},
   "outputs": [],
   "source": [
    "import uuid\n",
    "import chromadb\n",
    "\n",
    "client = chromadb.PersistentClient('vectorstore')\n",
    "collection = client.get_or_create_collection(name=\"portfolio\")\n",
    "\n",
    "if not collection.count():\n",
    "    for _, row in df.iterrows():\n",
    "        collection.add(documents=row[\"Techstack\"],\n",
    "                       metadatas={\"links\": row[\"Links\"]},\n",
    "                       ids=[str(uuid.uuid4())])"
   ]
  },
  {
   "cell_type": "code",
   "execution_count": 228,
   "metadata": {},
   "outputs": [
    {
     "name": "stdout",
     "output_type": "stream",
     "text": [
      "<class 'dict'>\n",
      "{'ids': [['933d725a-ecd4-48e7-a693-5d462f5dd836', '44a51b61-e656-42a7-a47e-6a19e8881605']], 'embeddings': None, 'documents': [['Android, Java, Room Persistence', 'Machine Learning, Python, TensorFlow']], 'uris': None, 'data': None, 'metadatas': [[{'links': 'https://example.com/android-portfolio'}, {'links': 'https://example.com/ml-python-portfolio'}]], 'distances': [[1.8089731191611407, 1.8773474825781715]], 'included': [<IncludeEnum.distances: 'distances'>, <IncludeEnum.documents: 'documents'>, <IncludeEnum.metadatas: 'metadatas'>]}\n",
      "[[{'links': 'https://example.com/android-portfolio'}, {'links': 'https://example.com/ml-python-portfolio'}]]\n"
     ]
    }
   ],
   "source": [
    "'''links = collection.query(query_texts=job['skills'], n_results=2).get('metadatas', [])\n",
    "links'''\n",
    "# Run the query\n",
    "query_result = collection.query(query_texts=job['skills'], n_results=2)\n",
    "\n",
    "# Debugging: Check what type query_result is\n",
    "print(type(query_result))  # Check if it's a list or dict\n",
    "print(query_result)        # Print the actual output\n",
    "\n",
    "# If query_result is a list, access its elements properly\n",
    "if isinstance(query_result, list):\n",
    "    # Extract 'metadatas' from each dictionary inside the list\n",
    "    links = [item.get('metadatas', []) for item in query_result]\n",
    "else:\n",
    "    # If it's a dictionary, get 'metadatas' directly\n",
    "    links = query_result.get('metadatas', [])\n",
    "\n",
    "# Print final output\n",
    "print(links)\n",
    "\n"
   ]
  },
  {
   "cell_type": "code",
   "execution_count": 229,
   "metadata": {},
   "outputs": [
    {
     "data": {
      "text/plain": [
       "{'role': 'Software Engineer',\n",
       " 'experience': 'Experienced Professionals',\n",
       " 'skills': ['Verbal Communication'],\n",
       " 'description': 'Works in the area of Software Engineering, which encompasses the development, maintenance and optimization of software solutions/applications. Applies scientific methods to analyse and solve software engineering problems. He/she is responsible for the development and application of software engineering practice and knowledge, in research, design, development and maintenance. His/her work requires the exercise of original thought and judgement and the ability to supervise the technical and administrative work of other software engineers. The software engineer builds skills and expertise of his/her software engineering discipline to reach standard software engineer skills expectations for the applicable role, as defined in Professional Communities. The software engineer collaborates and acts as team player with other software engineers and stakeholders.'}"
      ]
     },
     "execution_count": 229,
     "metadata": {},
     "output_type": "execute_result"
    }
   ],
   "source": [
    "job"
   ]
  },
  {
   "cell_type": "code",
   "execution_count": 230,
   "metadata": {},
   "outputs": [
    {
     "data": {
      "text/plain": [
       "['Verbal Communication']"
      ]
     },
     "execution_count": 230,
     "metadata": {},
     "output_type": "execute_result"
    }
   ],
   "source": [
    "job = json_res\n",
    "job['skills']"
   ]
  },
  {
   "cell_type": "code",
   "execution_count": 231,
   "metadata": {},
   "outputs": [
    {
     "name": "stdout",
     "output_type": "stream",
     "text": [
      "Here is the cold email:\n",
      "\n",
      "Subject: Expert Software Engineering Solutions for Your Organization\n",
      "\n",
      "Dear [Hiring Manager's Name],\n",
      "\n",
      "I came across your job posting for a Software Engineer and was impressed by the scope of the role. As a Business Development Executive at AtliQ, I believe our team of experts can help you fulfill your software engineering needs.\n",
      "\n",
      "At AtliQ, we specialize in developing, maintaining, and optimizing software solutions that cater to the unique requirements of our clients. Our team of seasoned software engineers applies scientific methods to analyze and solve complex software engineering problems, ensuring the delivery of high-quality solutions that meet the highest standards.\n",
      "\n",
      "Our expertise in software engineering is backed by our successful projects in Android app development (https://example.com/android-portfolio) and machine learning with Python (https://example.com/ml-python-portfolio). We have empowered numerous enterprises with tailored solutions, resulting in scalability, process optimization, cost reduction, and heightened overall efficiency.\n",
      "\n",
      "We understand the importance of effective communication in software engineering, which is why our team excels in verbal communication, ensuring seamless collaboration with your stakeholders. Our software engineers are skilled in building and applying software engineering practices and knowledge, with the ability to supervise technical and administrative work.\n",
      "\n",
      "If you're looking for a reliable partner to help you achieve your software engineering goals, I'd be happy to discuss how AtliQ can support your organization. Please let me know if you'd like to schedule a call to explore further.\n",
      "\n",
      "Best regards,\n",
      "\n",
      "Mohan\n",
      "Business Development Executive, AtliQ\n"
     ]
    }
   ],
   "source": [
    "prompt_email = PromptTemplate.from_template(\n",
    "        \"\"\"\n",
    "        ### JOB DESCRIPTION:\n",
    "        {job_description}\n",
    "        \n",
    "        ### INSTRUCTION:\n",
    "        You are Mohan, a business development executive at AtliQ. AtliQ is an AI & Software Consulting company dedicated to facilitating\n",
    "        the seamless integration of business processes through automated tools. \n",
    "        Over our experience, we have empowered numerous enterprises with tailored solutions, fostering scalability, \n",
    "        process optimization, cost reduction, and heightened overall efficiency. \n",
    "        Your job is to write a cold email to the client regarding the job mentioned above describing the capability of AtliQ \n",
    "        in fulfilling their needs.\n",
    "        Also add the most relevant ones from the following links to showcase Atliq's portfolio: {link_list}\n",
    "        Remember you are Mohan, BDE at AtliQ. \n",
    "        Do not provide a preamble.\n",
    "        ### EMAIL (NO PREAMBLE):\n",
    "        \n",
    "        \"\"\"\n",
    "        )\n",
    "\n",
    "chain_email = prompt_email | llm\n",
    "res = chain_email.invoke({\"job_description\": str(job), \"link_list\": links})\n",
    "print(res.content)"
   ]
  }
 ],
 "metadata": {
  "kernelspec": {
   "display_name": "Python 3",
   "language": "python",
   "name": "python3"
  },
  "language_info": {
   "codemirror_mode": {
    "name": "ipython",
    "version": 3
   },
   "file_extension": ".py",
   "mimetype": "text/x-python",
   "name": "python",
   "nbconvert_exporter": "python",
   "pygments_lexer": "ipython3",
   "version": "3.11.9"
  }
 },
 "nbformat": 4,
 "nbformat_minor": 2
}
